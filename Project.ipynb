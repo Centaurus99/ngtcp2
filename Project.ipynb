{
 "cells": [
  {
   "cell_type": "markdown",
   "metadata": {},
   "source": [
    "## 安装，配置使用 CMake 工具链\n",
    "\n",
    "按照 [官方教程](https://github.com/ngtcp2/ngtcp2) 的前一半安装好 `OpenSSL_1_1_1q+quic` 和 `nghttp3`\n",
    "\n",
    "``` bash\n",
    "$ git clone --depth 1 -b OpenSSL_1_1_1q+quic https://github.com/quictls/openssl\n",
    "$ cd openssl\n",
    "$ # For Linux\n",
    "$ ./config enable-tls1_3 --prefix=$PWD/build\n",
    "$ make -j$(nproc)\n",
    "$ make install_sw\n",
    "$ cd ..\n",
    "$ git clone https://github.com/ngtcp2/nghttp3\n",
    "$ cd nghttp3\n",
    "$ autoreconf -i\n",
    "$ ./configure --prefix=$PWD/build --enable-lib-only\n",
    "$ make -j$(nproc) check\n",
    "$ make install\n",
    "$ cd ..\n",
    "$ git clone https://github.com/ngtcp2/ngtcp2\n",
    "$ cd ngtcp2\n",
    "```\n",
    "\n",
    "在 VSCode 中配置 CMake ，重点配置 CMake 的环境变量 PKG_CONFIG_PATH 为刚刚安装好的两个库，`settings.json` 如下\n",
    "\n",
    "``` json\n",
    "{\n",
    "    \"cmake.configureOnOpen\": true,\n",
    "    \"cmake.environment\": {\n",
    "        \"PKG_CONFIG_PATH\": \"${workspaceFolder}/../openssl/build/lib/pkgconfig:${workspaceFolder}/../nghttp3/build/lib/pkgconfig\",\n",
    "    },\n",
    "    \"files.associations\": {\n",
    "        \"string_view\": \"cpp\"\n",
    "    },\n",
    "}\n",
    "```\n",
    "\n",
    "即可使用 CMake 编译项目"
   ]
  },
  {
   "cell_type": "markdown",
   "metadata": {},
   "source": [
    "## 使用 examples/ 中的客户端和服务端\n",
    "\n",
    "`examples/server.cc` 似乎实现了一个使用 http3 的服务器，可以使用 `examples/client.cc` 连接与访问\n",
    "\n",
    "默认情况下编译好的可执行文件在 `build/` 中对应目录下"
   ]
  },
  {
   "cell_type": "markdown",
   "metadata": {},
   "source": [
    "### 服务端\n",
    "\n",
    "先用 OpenSSL 签发证书，参考：<https://zhuanlan.zhihu.com/p/367630416>\n",
    "\n",
    "生成 PRIVATE_KEY_FILE 为 `server.key`，CERTIFICATE_FILE 为 `server.crt`\n",
    "\n",
    "再生成一些用于传输的文件，比如生成一个 1M 大小的全零文件 `1M.file`\n",
    "\n",
    "``` bash\n",
    "dd if=/dev/zero of=1M.file bs=1M count=1\n",
    "```\n",
    "\n",
    "如下命令运行服务端\n",
    "\n",
    "- '*' 表示监听所有地址\n",
    "- 2333 为端口\n",
    "- `--qlog-dir` 为 qlog 日志目录，目录下文件名为 Source Connection ID\n",
    "- `-q` 关闭调试输出（原程序中调试信息过多）"
   ]
  },
  {
   "cell_type": "code",
   "execution_count": 12,
   "metadata": {
    "vscode": {
     "languageId": "shellscript"
    }
   },
   "outputs": [
    {
     "name": "stderr",
     "output_type": "stream",
     "text": [
      "2157.49s - pydevd: Sending message related to process being replaced timed-out after 5 seconds\n"
     ]
    },
    {
     "name": "stdout",
     "output_type": "stream",
     "text": [
      "Using document root /home/thx/Git/ngtcp2/\n",
      "^C\n"
     ]
    }
   ],
   "source": [
    "!./build/examples/server '*' 2333 ./build/examples/server.key ./build/examples/server.crt --qlog-dir ./build/examples/server_log/ -q"
   ]
  },
  {
   "cell_type": "markdown",
   "metadata": {},
   "source": [
    "### 客户端\n",
    "\n",
    "- `--download` 为文件下载目录\n",
    "- 末尾为要访问的 URL"
   ]
  },
  {
   "cell_type": "code",
   "execution_count": null,
   "metadata": {
    "vscode": {
     "languageId": "shellscript"
    }
   },
   "outputs": [],
   "source": [
    "!./build/examples/client 127.0.0.1 2333  --qlog-dir ./build/examples/client_log/ --download ./build/examples/download/ https://127.0.0.1:2333/build/examples/data/1M.file"
   ]
  },
  {
   "cell_type": "markdown",
   "metadata": {},
   "source": [
    "## 使用 Mahimahi 控制网络条件\n",
    "\n",
    "[Mahimahi](http://mahimahi.mit.edu/)\n",
    "\n",
    "``` bash\n",
    "mm-delay 100 mm-link /usr/share/mahimahi/traces/Verizon-LTE-short.up /usr/share/mahimahi/traces/Verizon-LTE-short.down\n",
    "```\n",
    "\n",
    "``` bash\n",
    "mm-delay 100 mm-loss uplink 0.2 mm-loss downlink 0.2 mm-link /usr/share/mahimahi/traces/Verizon-LTE-short.up /usr/share/mahimahi/traces/Verizon-LTE-short.down\n",
    "```\n",
    "\n",
    "在 Mahimahi container 中，访问本机架设的服务需要使用 \"base\" container 的 IP 变量 $MAHIMAHI_BASE 作为访问的地址，使用 127.0.0.1 访问的是当前容器。\n",
    "\n",
    "``` bash\n",
    "./build/examples/client $MAHIMAHI_BASE 2333  --qlog-dir ./build/examples/client_log/ --download ./build/examples/download/ https://$MAHIMAHI_BASE:2333/build/examples/data/1M.file\n",
    "```"
   ]
  },
  {
   "cell_type": "markdown",
   "metadata": {},
   "source": [
    "## 第一次实验\n",
    "\n",
    "服务端：\n",
    "\n",
    "``` bash\n",
    "./build/examples/server '*' 2333 ./build/examples/server.key ./build/examples/server.crt --qlog-dir ./build/examples/server_log/ -q\n",
    "```\n",
    "\n",
    "客户端\n",
    "\n",
    "``` bash\n",
    "mm-delay 100 mm-link --downlink-queue=droptail --downlink-queue-args=bytes=??? /usr/share/mahimahi/traces/Verizon-LTE-short.up /usr/share/mahimahi/traces/Verizon-LTE-short.down\n",
    "```\n",
    "\n",
    "``` bash\n",
    "./build/examples/client $MAHIMAHI_BASE 2333 --download ./build/examples/download/ https://$MAHIMAHI_BASE:2333/build/examples/data/1M.file -q\n",
    "```\n",
    "\n",
    "mm-delay 100 mm-link /usr/share/mahimahi/traces/Verizon-LTE-short.up /usr/share/mahimahi/traces/Verizon-LTE-short.down"
   ]
  },
  {
   "cell_type": "markdown",
   "metadata": {},
   "source": [
    "qlog 文件解析: https://qvis.quictools.info/#/files\n",
    "新建 cc 源文件\n",
    "解析 IP 地址\n",
    "CUBIC 初始化时设置 CWnd\n",
    "mm-link 有参数 --downlink-queue=droptail --downlink-queue-args=bytes=??? 可以限制缓冲区大小"
   ]
  }
 ],
 "metadata": {
  "kernelspec": {
   "display_name": "Python 3.8.10 64-bit",
   "language": "python",
   "name": "python3"
  },
  "language_info": {
   "codemirror_mode": {
    "name": "ipython",
    "version": 3
   },
   "file_extension": ".py",
   "mimetype": "text/x-python",
   "name": "python",
   "nbconvert_exporter": "python",
   "pygments_lexer": "ipython3",
   "version": "3.8.10"
  },
  "orig_nbformat": 4,
  "vscode": {
   "interpreter": {
    "hash": "916dbcbb3f70747c44a77c7bcd40155683ae19c65e1c03b4aa3499c5328201f1"
   }
  }
 },
 "nbformat": 4,
 "nbformat_minor": 2
}
